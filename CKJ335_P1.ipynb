{
 "cells": [
  {
   "cell_type": "markdown",
   "metadata": {},
   "source": [
    "Portfolio 1"
   ]
  },
  {
   "cell_type": "markdown",
   "metadata": {},
   "source": [
    "1 a\n",
    "Ved første øjekast indeholder filen:\n",
    "- Survived - en kolonne der indeholder information om, hvorvidt de pågældende passagerer overlevede\n",
    "Overlevet=1, Død=0 (int)\n",
    "- Pclass - passagerer fordelt på klasserne 1,2 og 3 (int)\n",
    "- Name - Fulde navne og titler (str)\n",
    "- Sex - male eller female (str)\n",
    "- Age (alder) - (float)\n",
    "- Siblings/spouses aboard - liste over søskende eller partnere ombord - (int)\n",
    "- Parents/Children aboard - liste over forældre eller søskende ombord - (int)\n",
    "- Fare - Passagerernes henholdsvise billetpriser (float)"
   ]
  },
  {
   "cell_type": "markdown",
   "metadata": {},
   "source": [
    "1 b\n",
    "Jeg er ikke stødt på nogle manglende data i det pågældende datasæt, udover enkelte NaN-værdier"
   ]
  },
  {
   "cell_type": "code",
   "execution_count": 23,
   "metadata": {},
   "outputs": [],
   "source": [
    "#2) \n",
    "import pandas as pd\n",
    "titanic=pd.read_csv('titanic.csv')\n",
    "#Jeg importerer pandas og laver en variabel 'titanic' for csv-filen\n"
   ]
  },
  {
   "cell_type": "code",
   "execution_count": 24,
   "metadata": {},
   "outputs": [
    {
     "data": {
      "text/html": [
       "<div>\n",
       "<style scoped>\n",
       "    .dataframe tbody tr th:only-of-type {\n",
       "        vertical-align: middle;\n",
       "    }\n",
       "\n",
       "    .dataframe tbody tr th {\n",
       "        vertical-align: top;\n",
       "    }\n",
       "\n",
       "    .dataframe thead th {\n",
       "        text-align: right;\n",
       "    }\n",
       "</style>\n",
       "<table border=\"1\" class=\"dataframe\">\n",
       "  <thead>\n",
       "    <tr style=\"text-align: right;\">\n",
       "      <th></th>\n",
       "      <th>Survived</th>\n",
       "      <th>Pclass</th>\n",
       "      <th>Name</th>\n",
       "      <th>Sex</th>\n",
       "      <th>Age</th>\n",
       "      <th>Siblings/Spouses Aboard</th>\n",
       "      <th>Parents/Children Aboard</th>\n",
       "      <th>Fare</th>\n",
       "    </tr>\n",
       "  </thead>\n",
       "  <tbody>\n",
       "    <tr>\n",
       "      <th>0</th>\n",
       "      <td>0</td>\n",
       "      <td>3</td>\n",
       "      <td>Mr. Owen Harris Braund</td>\n",
       "      <td>male</td>\n",
       "      <td>22.0</td>\n",
       "      <td>1</td>\n",
       "      <td>0</td>\n",
       "      <td>7.2500</td>\n",
       "    </tr>\n",
       "    <tr>\n",
       "      <th>1</th>\n",
       "      <td>1</td>\n",
       "      <td>1</td>\n",
       "      <td>Mrs. John Bradley (Florence Briggs Thayer) Cum...</td>\n",
       "      <td>female</td>\n",
       "      <td>38.0</td>\n",
       "      <td>1</td>\n",
       "      <td>0</td>\n",
       "      <td>71.2833</td>\n",
       "    </tr>\n",
       "    <tr>\n",
       "      <th>2</th>\n",
       "      <td>1</td>\n",
       "      <td>3</td>\n",
       "      <td>Miss. Laina Heikkinen</td>\n",
       "      <td>female</td>\n",
       "      <td>26.0</td>\n",
       "      <td>0</td>\n",
       "      <td>0</td>\n",
       "      <td>7.9250</td>\n",
       "    </tr>\n",
       "    <tr>\n",
       "      <th>3</th>\n",
       "      <td>1</td>\n",
       "      <td>1</td>\n",
       "      <td>Mrs. Jacques Heath (Lily May Peel) Futrelle</td>\n",
       "      <td>female</td>\n",
       "      <td>35.0</td>\n",
       "      <td>1</td>\n",
       "      <td>0</td>\n",
       "      <td>53.1000</td>\n",
       "    </tr>\n",
       "    <tr>\n",
       "      <th>4</th>\n",
       "      <td>0</td>\n",
       "      <td>3</td>\n",
       "      <td>Mr. William Henry Allen</td>\n",
       "      <td>male</td>\n",
       "      <td>35.0</td>\n",
       "      <td>0</td>\n",
       "      <td>0</td>\n",
       "      <td>8.0500</td>\n",
       "    </tr>\n",
       "  </tbody>\n",
       "</table>\n",
       "</div>"
      ],
      "text/plain": [
       "   Survived  Pclass                                               Name  \\\n",
       "0         0       3                             Mr. Owen Harris Braund   \n",
       "1         1       1  Mrs. John Bradley (Florence Briggs Thayer) Cum...   \n",
       "2         1       3                              Miss. Laina Heikkinen   \n",
       "3         1       1        Mrs. Jacques Heath (Lily May Peel) Futrelle   \n",
       "4         0       3                            Mr. William Henry Allen   \n",
       "\n",
       "      Sex   Age  Siblings/Spouses Aboard  Parents/Children Aboard     Fare  \n",
       "0    male  22.0                        1                        0   7.2500  \n",
       "1  female  38.0                        1                        0  71.2833  \n",
       "2  female  26.0                        0                        0   7.9250  \n",
       "3  female  35.0                        1                        0  53.1000  \n",
       "4    male  35.0                        0                        0   8.0500  "
      ]
     },
     "execution_count": 24,
     "metadata": {},
     "output_type": "execute_result"
    }
   ],
   "source": [
    "titanic.head()\n",
    "# Og sikrer mig, at der ser fornuftigt ud"
   ]
  },
  {
   "cell_type": "code",
   "execution_count": 25,
   "metadata": {},
   "outputs": [
    {
     "data": {
      "text/plain": [
       "Survived                   0\n",
       "Pclass                     0\n",
       "Name                       0\n",
       "Sex                        0\n",
       "Age                        0\n",
       "Siblings/Spouses Aboard    0\n",
       "Parents/Children Aboard    0\n",
       "Fare                       0\n",
       "dtype: int64"
      ]
     },
     "execution_count": 25,
     "metadata": {},
     "output_type": "execute_result"
    }
   ],
   "source": [
    "#Først og fremmest sikrer jeg mig, at der ikke er nogle null-værdier\n",
    "titanic.isnull().sum()"
   ]
  },
  {
   "cell_type": "code",
   "execution_count": 26,
   "metadata": {},
   "outputs": [
    {
     "name": "stdout",
     "output_type": "stream",
     "text": [
      "Survived                     int64\n",
      "Pclass                       int64\n",
      "Name                        object\n",
      "Sex                         object\n",
      "Age                        float64\n",
      "Siblings/Spouses Aboard      int64\n",
      "Parents/Children Aboard      int64\n",
      "Fare                       float64\n",
      "dtype: object\n"
     ]
    }
   ],
   "source": [
    "#Og så identificerer jeg typerne af hver kolonne\n",
    "print(titanic.dtypes)"
   ]
  },
  {
   "cell_type": "markdown",
   "metadata": {},
   "source": [
    "Typerne stemmer overens med hvad jeg gik ud fra i opgave 1a"
   ]
  },
  {
   "cell_type": "code",
   "execution_count": 27,
   "metadata": {},
   "outputs": [
    {
     "name": "stdout",
     "output_type": "stream",
     "text": [
      "887\n",
      "7096\n"
     ]
    }
   ],
   "source": [
    "# Jeg sikrer mig at alle 887 passagerer fra listen er repræsenterede\n",
    "print(len(titanic)) # succes\n",
    "\n",
    "# Og undersøger det summen af celler i regnearket\n",
    "print(titanic.size) #Hvilket lander på 7096"
   ]
  },
  {
   "cell_type": "markdown",
   "metadata": {},
   "source": [
    "3)\n",
    "Først ser vi på, hvor mange af de 887 passagerer der angiveligt overlevede"
   ]
  },
  {
   "cell_type": "code",
   "execution_count": 28,
   "metadata": {},
   "outputs": [
    {
     "name": "stdout",
     "output_type": "stream",
     "text": [
      "0      0\n",
      "1      1\n",
      "2      1\n",
      "3      1\n",
      "4      0\n",
      "      ..\n",
      "882    0\n",
      "883    1\n",
      "884    0\n",
      "885    1\n",
      "886    0\n",
      "Name: Survived, Length: 887, dtype: int64\n",
      "342\n"
     ]
    }
   ],
   "source": [
    "print(titanic['Survived'])\n",
    "print(titanic['Survived'].sum())\n",
    "\n",
    "\n",
    "#In order to find statistics on the passenger ages, we will run the .describe() command on the Passenger-Column"
   ]
  },
  {
   "cell_type": "markdown",
   "metadata": {},
   "source": [
    "Med udgangspunkt i at 1=overlevet og 0=død, overlevede 342 ud af de 887 passagerer"
   ]
  },
  {
   "cell_type": "code",
   "execution_count": 29,
   "metadata": {},
   "outputs": [
    {
     "data": {
      "text/plain": [
       "count    887.000000\n",
       "mean      29.471443\n",
       "std       14.121908\n",
       "min        0.420000\n",
       "25%       20.250000\n",
       "50%       28.000000\n",
       "75%       38.000000\n",
       "max       80.000000\n",
       "Name: Age, dtype: float64"
      ]
     },
     "execution_count": 29,
     "metadata": {},
     "output_type": "execute_result"
    }
   ],
   "source": [
    "titanic['Age'].describe()\n"
   ]
  },
  {
   "cell_type": "code",
   "execution_count": 30,
   "metadata": {},
   "outputs": [
    {
     "data": {
      "text/plain": [
       "28.0"
      ]
     },
     "execution_count": 30,
     "metadata": {},
     "output_type": "execute_result"
    }
   ],
   "source": [
    "# Ovenstående ser vi at passager-alderen spænder mellem 0.42 og op til 80 år\n",
    "# Vi kan finde median-alderen ved at kalde den direkte fra kolonnen:\n",
    "titanic['Age'].median() #Som tilsyneladende er 28"
   ]
  },
  {
   "cell_type": "code",
   "execution_count": 31,
   "metadata": {},
   "outputs": [
    {
     "data": {
      "text/plain": [
       "count    887.00000\n",
       "mean      32.30542\n",
       "std       49.78204\n",
       "min        0.00000\n",
       "25%        7.92500\n",
       "50%       14.45420\n",
       "75%       31.13750\n",
       "max      512.32920\n",
       "Name: Fare, dtype: float64"
      ]
     },
     "execution_count": 31,
     "metadata": {},
     "output_type": "execute_result"
    }
   ],
   "source": [
    "# Lad os kigge på den gennemsnitlige billetpris\n",
    "titanic['Fare'].describe() #der ligger på 32,3 pund\n",
    "#Og tilsyneladende er en enkelt heldig passager kommet gratis med"
   ]
  },
  {
   "cell_type": "code",
   "execution_count": 32,
   "metadata": {},
   "outputs": [
    {
     "name": "stdout",
     "output_type": "stream",
     "text": [
      "Survived    0    1\n",
      "Sex               \n",
      "female     81  233\n",
      "male      464  109\n"
     ]
    }
   ],
   "source": [
    "# Lad os så se på, om overlevelsesraten var højst for mænd eller kvinder\n",
    "titanic_pivot=titanic.pivot_table(index='Sex', columns ='Survived', values='Age', aggfunc='count')\n",
    "print(titanic_pivot.head())\n",
    "#Ved at lave en simpel pivot-tabel, kan vi se at overlevelsesraten var højst for kvinder"
   ]
  },
  {
   "cell_type": "markdown",
   "metadata": {},
   "source": [
    "4) Findes der personer med samme efternavn?\n",
    "- Først udtrækker vi Name-kolonnen som en liste og opretter en tom liste, 'last_names' til efternavnene\n"
   ]
  },
  {
   "cell_type": "code",
   "execution_count": 33,
   "metadata": {},
   "outputs": [],
   "source": [
    "Name=(titanic['Name'])\n",
    "last_names=[]\n"
   ]
  },
  {
   "cell_type": "code",
   "execution_count": 34,
   "metadata": {},
   "outputs": [
    {
     "data": {
      "text/plain": [
       "887"
      ]
     },
     "execution_count": 34,
     "metadata": {},
     "output_type": "execute_result"
    }
   ],
   "source": [
    "# Herefter laver jeg et loop, der tager den sidste værdi (efternavnet) fra 'names' og lægger dem i listen 'last_names'\n",
    "for i in range(0, len(Name)):\n",
    "    last_names.append(Name[i].split()[-1])\n",
    "# Og jeg tjekker at alle 887 passagerer er repræsenteret\n",
    "len(last_names)\n"
   ]
  },
  {
   "cell_type": "code",
   "execution_count": 35,
   "metadata": {},
   "outputs": [
    {
     "name": "stdout",
     "output_type": "stream",
     "text": [
      "[2, 1, 1, 2, 2, 3, 1, 4, 6, 2, 2, 1, 1, 9, 1, 1, 5, 4, 3, 1, 1, 1, 1, 1, 4, 4, 1, 4, 1, 1, 1, 1, 1, 1, 3, 2, 1, 1, 3, 2, 1, 2, 3, 1, 1, 1, 1, 1, 2, 6, 1, 4, 1, 1, 1, 1, 1, 3, 6, 1, 1, 4, 6, 1, 2, 1, 1, 9, 1, 1, 6, 1, 1, 1, 1, 1, 1, 2, 1, 1, 1, 1, 1, 1, 2, 4, 1, 4, 1, 1, 1, 1, 2, 1, 1, 1, 1, 2, 2, 1, 2, 2, 3, 4, 1, 1, 1, 1, 3, 1, 2, 1, 3, 2, 1, 1, 2, 2, 9, 3, 1, 2, 2, 2, 2, 1, 1, 2, 1, 1, 1, 1, 1, 1, 1, 1, 2, 1, 1, 3, 1, 2, 1, 1, 1, 9, 4, 3, 1, 1, 2, 1, 1, 3, 4, 1, 1, 1, 7, 1, 1, 1, 2, 6, 3, 1, 6, 1, 1, 1, 5, 6, 1, 3, 1, 4, 1, 1, 1, 7, 1, 4, 2, 1, 1, 3, 1, 3, 1, 1, 1, 1, 3, 4, 1, 1, 3, 1, 1, 1, 7, 1, 1, 1, 2, 2, 1, 1, 1, 2, 1, 1, 1, 1, 3, 1, 2, 1, 4, 1, 1, 1, 1, 3, 1, 1, 1, 1, 4, 4, 2, 1, 4, 1, 1, 1, 3, 1, 1, 2, 2, 1, 1, 2, 2, 1, 2, 2, 6, 1, 2, 1, 2, 2, 1, 1, 1, 1, 1, 4, 3, 1, 1, 1, 6, 1, 3, 1, 1, 1, 2, 1, 1, 2, 1, 1, 5, 2, 1, 2, 1, 1, 3, 1, 1, 1, 1, 1, 1, 2, 1, 1, 1, 1, 1, 3, 1, 2, 4, 2, 6, 2, 4, 3, 1, 2, 2, 1, 2, 2, 1, 1, 4, 1, 2, 1, 2, 1, 1, 1, 1, 2, 7, 1, 1, 1, 3, 2, 2, 1, 3, 3, 2, 1, 2, 1, 1, 1, 3, 4, 1, 1, 1, 4, 3, 1, 2, 1, 1, 1, 3, 2, 1, 1, 1, 1, 1, 1, 6, 1, 2, 1, 3, 1, 1, 1, 1, 1, 1, 1, 1, 1, 4, 3, 1, 1, 1, 4, 1, 2, 1, 2, 1, 3, 6, 1, 1, 1, 6, 1, 4, 3, 2, 3, 2, 1, 1, 1, 1, 1, 3, 2, 2, 1, 1, 3, 1, 4, 1, 4, 2, 1, 1, 1, 1, 1, 1, 3, 1, 1, 2, 2, 1, 1, 1, 3, 1, 1, 2, 1, 1, 2, 6, 4, 3, 4, 1, 4, 1, 1, 1, 1, 1, 2, 1, 4, 1, 3, 2, 1, 2, 1, 1, 1, 1, 1, 1, 1, 2, 1, 1, 1, 1, 1, 1, 1, 4, 1, 2, 3, 1, 1, 1, 2, 2, 1, 1, 6, 1, 1, 1, 2, 4, 3, 1, 1, 2, 2, 1, 1, 1, 2, 1, 1, 1, 3, 2, 2, 1, 1, 1, 1, 2, 2, 1, 3, 1, 2, 2, 1, 1, 2, 1, 1, 1, 1, 1, 1, 1, 1, 2, 1, 1, 1, 1, 1, 2, 2, 1, 3, 2, 2, 4, 1, 1, 1, 1, 2, 9, 9, 2, 1, 1, 2, 1, 3, 3, 3, 1, 3, 1, 1, 1, 2, 1, 3, 1, 1, 1, 1, 1, 1, 3, 1, 4, 1, 1, 4, 1, 3, 4, 1, 1, 1, 2, 1, 3, 1, 3, 1, 1, 1, 3, 1, 1, 1, 1, 1, 1, 1, 3, 2, 3, 1, 6, 3, 2, 2, 1, 1, 1, 1, 1, 1, 1, 3, 1, 9, 1, 2, 1, 1, 2, 2, 2, 2, 1, 2, 1, 2, 3, 1, 1, 1, 1, 1, 1, 1, 1, 1, 1, 6, 1, 1, 3, 6, 2, 3, 1, 6, 1, 4, 4, 1, 1, 1, 2, 1, 2, 1, 1, 1, 3, 1, 3, 1, 3, 2, 1, 1, 2, 1, 3, 1, 1, 1, 2, 4, 1, 1, 1, 1, 1, 1, 1, 6, 1, 1, 1, 1, 6, 4, 3, 6, 1, 1, 1, 2, 1, 2, 2, 1, 2, 4, 1, 3, 1, 1, 1, 2, 1, 3, 2, 4, 1, 1, 2, 1, 1, 2, 2, 1, 1, 1, 1, 6, 4, 3, 1, 1, 2, 2, 2, 1, 1, 1, 2, 1, 1, 1, 1, 4, 4, 1, 1, 1, 1, 1, 2, 1, 1, 2, 2, 1, 1, 1, 1, 2, 1, 1, 2, 2, 2, 1, 1, 1, 1, 1, 1, 6, 1, 1, 1, 1, 3, 1, 1, 3, 1, 3, 2, 1, 1, 1, 1, 1, 1, 2, 1, 2, 2, 1, 1, 5, 2, 1, 2, 1, 7, 3, 1, 1, 1, 1, 1, 3, 1, 3, 6, 1, 1, 3, 2, 1, 3, 2, 1, 1, 1, 9, 1, 1, 1, 2, 1, 6, 2, 1, 1, 2, 6, 3, 2, 2, 1, 1, 2, 3, 2, 1, 1, 1, 1, 1, 1, 1, 1, 1, 1, 1, 1, 1, 7, 1, 4, 2, 9, 2, 3, 1, 6, 1, 2, 2, 4, 1, 3, 1, 1, 7, 1, 1, 1, 1, 1, 6, 1, 2, 2, 1, 2, 1, 4, 2, 1, 1, 1, 1, 1, 1, 1, 5, 1, 3, 2, 1, 1]\n"
     ]
    }
   ],
   "source": [
    "# For at finde ud af om der er nogle personer med samme efternavn, laver jeg et loop der søger efter ens værdier i 'last_names'\n",
    "recurrences=([last_names.count(x) for x in last_names])\n",
    "print(recurrences)"
   ]
  },
  {
   "cell_type": "code",
   "execution_count": 36,
   "metadata": {},
   "outputs": [
    {
     "name": "stdout",
     "output_type": "stream",
     "text": [
      "True\n"
     ]
    }
   ],
   "source": [
    "# Hvilket (ret kaotisk) viser at adskillige efternavne gentages\n",
    "# Og inden jeg foretager en bedre visualisering af gentagelser i efternavnene, sikrer jeg mig, at alle passagerer er repræsenteret i 'recurrences'\n",
    "print(len(last_names)==len(recurrences))"
   ]
  },
  {
   "cell_type": "code",
   "execution_count": 37,
   "metadata": {},
   "outputs": [
    {
     "name": "stdout",
     "output_type": "stream",
     "text": [
      "     Last Name  Amount\n",
      "0       Braund       2\n",
      "1      Cumings       1\n",
      "2    Heikkinen       1\n",
      "3     Futrelle       2\n",
      "4        Allen       2\n",
      "..         ...     ...\n",
      "882   Montvila       1\n",
      "883     Graham       3\n",
      "884   Johnston       2\n",
      "885       Behr       1\n",
      "886     Dooley       1\n",
      "\n",
      "[887 rows x 2 columns]\n"
     ]
    }
   ],
   "source": [
    "# Jeg opretter en dataframe, der viser hvor mange passagerer der har de samme efternavne\n",
    "recurring_names=pd.DataFrame({'Last Name': last_names, 'Amount':recurrences})\n",
    "print(recurring_names)"
   ]
  },
  {
   "cell_type": "code",
   "execution_count": 38,
   "metadata": {},
   "outputs": [
    {
     "data": {
      "text/html": [
       "<div>\n",
       "<style scoped>\n",
       "    .dataframe tbody tr th:only-of-type {\n",
       "        vertical-align: middle;\n",
       "    }\n",
       "\n",
       "    .dataframe tbody tr th {\n",
       "        vertical-align: top;\n",
       "    }\n",
       "\n",
       "    .dataframe thead th {\n",
       "        text-align: right;\n",
       "    }\n",
       "</style>\n",
       "<table border=\"1\" class=\"dataframe\">\n",
       "  <thead>\n",
       "    <tr style=\"text-align: right;\">\n",
       "      <th></th>\n",
       "      <th>Last Name</th>\n",
       "      <th>Amount</th>\n",
       "    </tr>\n",
       "  </thead>\n",
       "  <tbody>\n",
       "    <tr>\n",
       "      <th>13</th>\n",
       "      <td>Andersson</td>\n",
       "      <td>9</td>\n",
       "    </tr>\n",
       "  </tbody>\n",
       "</table>\n",
       "</div>"
      ],
      "text/plain": [
       "    Last Name  Amount\n",
       "13  Andersson       9"
      ]
     },
     "execution_count": 38,
     "metadata": {},
     "output_type": "execute_result"
    }
   ],
   "source": [
    "\n",
    "recurring_names.nlargest(1, 'Amount')\n",
    "# Og det mest populære efternavn er Andersson, hvilket hele 9 ud af de 887 passagerer hedder."
   ]
  },
  {
   "cell_type": "markdown",
   "metadata": {},
   "source": [
    "Opg 5 I skal nu lave en pivot-tabel som viser hvor mange der rejste på hhv 1., 2. og 3. klasse. Hvilken rejseklasse havde flest omkomne?"
   ]
  },
  {
   "cell_type": "code",
   "execution_count": 39,
   "metadata": {},
   "outputs": [
    {
     "name": "stdout",
     "output_type": "stream",
     "text": [
      "Pclass    1    2    3\n",
      "Age     216  184  487\n"
     ]
    }
   ],
   "source": [
    "# jeg laver et pivot table over, hvor mange der rejste på hver klasse. Jeg bruger 'Age' til at vise mine værdier\n",
    "passenger_per_class=titanic.pivot_table(columns='Pclass', values='Age', aggfunc='count')\n",
    "print(passenger_per_class)"
   ]
  },
  {
   "cell_type": "markdown",
   "metadata": {},
   "source": [
    "Ovenstående ses, hvordan de 887 passagerer var fordelt på de tre klasser."
   ]
  },
  {
   "cell_type": "markdown",
   "metadata": {},
   "source": [
    "Hvilken rejseklasse havde de flest omkomne?\n"
   ]
  },
  {
   "cell_type": "code",
   "execution_count": 40,
   "metadata": {},
   "outputs": [
    {
     "name": "stdout",
     "output_type": "stream",
     "text": [
      "Survived    0    1\n",
      "Pclass            \n",
      "1          80  136\n",
      "2          97   87\n",
      "3         368  119\n"
     ]
    }
   ],
   "source": [
    "# jeg laver en ny pivot tabel, der kan vise hvor mange der henholdsvis døde og overlevede på hver klasse\n",
    "pivot_passenger_class=titanic.pivot_table(index='Pclass', columns='Survived',values='Age', aggfunc='count')\n",
    "print(pivot_passenger_class)"
   ]
  },
  {
   "cell_type": "markdown",
   "metadata": {},
   "source": [
    "3. Klasse havde langt fest omkomne."
   ]
  },
  {
   "cell_type": "code",
   "execution_count": null,
   "metadata": {},
   "outputs": [],
   "source": []
  }
 ],
 "metadata": {
  "kernelspec": {
   "display_name": "Python 3",
   "language": "python",
   "name": "python3"
  },
  "language_info": {
   "codemirror_mode": {
    "name": "ipython",
    "version": 3
   },
   "file_extension": ".py",
   "mimetype": "text/x-python",
   "name": "python",
   "nbconvert_exporter": "python",
   "pygments_lexer": "ipython3",
   "version": "3.7.3"
  }
 },
 "nbformat": 4,
 "nbformat_minor": 2
}
