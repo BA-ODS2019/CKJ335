{
 "cells": [
  {
   "cell_type": "markdown",
   "metadata": {},
   "source": [
    "Portfolio 2"
   ]
  },
  {
   "cell_type": "markdown",
   "metadata": {},
   "source": [
    "1. The collection\n",
    "\n",
    "So this first long body, is (obviously) a copy-paste from the guardian, that I have inserted in order to get the data from the API"
   ]
  },
  {
   "cell_type": "code",
   "execution_count": 2,
   "metadata": {},
   "outputs": [],
   "source": [
    "# Importing the modules necessary for the download from The Guardian\n",
    "import json\n",
    "import requests\n",
    "from os import makedirs\n",
    "from os.path import join, exists\n",
    "from datetime import date, timedelta"
   ]
  },
  {
   "cell_type": "code",
   "execution_count": 3,
   "metadata": {},
   "outputs": [
    {
     "name": "stdout",
     "output_type": "stream",
     "text": [
      "Number of ids: 20034\n",
      "Number of texts: 20034\n"
     ]
    }
   ],
   "source": [
    "# This creates two subdirectories called \"theguardian\" and \"collection\"\n",
    "ARTICLES_DIR = join('theguardian', 'collection')\n",
    "makedirs(ARTICLES_DIR, exist_ok=True)\n",
    "\n",
    "# Sample URL\n",
    "#\n",
    "# http://content.guardianapis.com/search?from-date=2016-01-02&\n",
    "# to-date=2016-01-02&order-by=newest&show-fields=all&page-size=200\n",
    "# &api-key=your-api-key-goes-here\n",
    "\n",
    "# Change this for your API key:\n",
    "MY_API_KEY = '3aca8537-1937-4bcd-b313-b1371548bb69'\n",
    "\n",
    "API_ENDPOINT = 'http://content.guardianapis.com/search'\n",
    "my_params = {\n",
    "    'from-date': \"\", # leave empty, change start_date / end_date variables instead\n",
    "    'to-date': \"\",\n",
    "    'order-by': \"newest\",\n",
    "    'show-fields': 'all',\n",
    "    'page-size': 200,\n",
    "    'api-key': MY_API_KEY\n",
    "}\n",
    "\n",
    "# day iteration from here:\n",
    "# http://stackoverflow.com/questions/7274267/print-all-day-dates-between-two-dates\n",
    "\n",
    "# Update these dates to suit your own needs.\n",
    "start_date = date(2019, 7, 28)\n",
    "end_date = date(2019,10, 28)\n",
    "\n",
    "dayrange = range((end_date - start_date).days + 1)\n",
    "for daycount in dayrange:\n",
    "    dt = start_date + timedelta(days=daycount)\n",
    "    datestr = dt.strftime('%Y-%m-%d')\n",
    "    fname = join(ARTICLES_DIR, datestr + '.json')\n",
    "    if not exists(fname):\n",
    "        # then let's download it\n",
    "        print(\"Downloading\", datestr)\n",
    "        all_results = []\n",
    "        my_params['from-date'] = datestr\n",
    "        my_params['to-date'] = datestr\n",
    "        current_page = 1\n",
    "        total_pages = 1\n",
    "        while current_page <= total_pages:\n",
    "            print(\"...page\", current_page)\n",
    "            my_params['page'] = current_page\n",
    "            resp = requests.get(API_ENDPOINT, my_params)\n",
    "            data = resp.json()\n",
    "            all_results.extend(data['response']['results'])\n",
    "            # if there is more than one page\n",
    "            current_page += 1\n",
    "            total_pages = data['response']['pages']\n",
    "\n",
    "        with open(fname, 'w') as f:\n",
    "            print(\"Writing to\", fname)\n",
    "\n",
    "            # re-serialize it for pretty indentation\n",
    "            f.write(json.dumps(all_results, indent=2))\n",
    "\n",
    "import json\n",
    "import os\n",
    "\n",
    "# Update to the directory that contains your json files\n",
    "# Note the trailing /\n",
    "directory_name = \"theguardian/collection/\"\n",
    "\n",
    "ids = list()\n",
    "texts = list()\n",
    "sections = list()\n",
    "for filename in os.listdir(directory_name):\n",
    "    if filename.endswith(\".json\"):\n",
    "        with open(directory_name + filename) as json_file:\n",
    "            data = json.load(json_file)\n",
    "            for article in data:\n",
    "                id = article['id']\n",
    "                fields = article['fields']\n",
    "                text = fields['bodyText'] if fields['bodyText'] else \"\"\n",
    "                ids.append(id)\n",
    "                texts.append(text)\n",
    "                section = article['sectionId']\t# Id name each article gets by The Guardian\n",
    "                sections.append(section) # Adding each item to a list as above \"sections = list()\"\n",
    "\n",
    "\n",
    "print(\"Number of ids: %d\" % len(ids))\n",
    "print(\"Number of texts: %d\" % len(texts))"
   ]
  },
  {
   "cell_type": "markdown",
   "metadata": {},
   "source": [
    "So i have searched for articles from the Guardian between the 28th of July through to the 28th of october, This gives me a total of 20034 texts"
   ]
  },
  {
   "cell_type": "markdown",
   "metadata": {},
   "source": [
    "2) Pre-process and describe your collection"
   ]
  },
  {
   "cell_type": "code",
   "execution_count": 4,
   "metadata": {},
   "outputs": [],
   "source": [
    "# First off, i'm creating an environment that seems relevant, according to the previous text-mining exercises\n",
    "import sklearn\n",
    "import numpy as np\n",
    "import pandas as pd\n",
    "import nltk\n",
    "import matplotlib"
   ]
  },
  {
   "cell_type": "code",
   "execution_count": 6,
   "metadata": {},
   "outputs": [],
   "source": [
    "# And then i'll describe the raw data\n",
    "#len(texts)\n",
    "# This particular collection from the Guardian contains 20034 texts\n",
    "# Which I guess, we already knew, but now we know-know\n",
    "\n",
    "#SKIPPER LENGHT FORDI, DEN ALLIWL ER OVENFOR"
   ]
  },
  {
   "cell_type": "code",
   "execution_count": 7,
   "metadata": {},
   "outputs": [
    {
     "name": "stdout",
     "output_type": "stream",
     "text": [
      "Total sum: 102811552\n"
     ]
    }
   ],
   "source": [
    "all_lengths = list()\n",
    "for text in texts:\n",
    "    all_lengths.append(len(text))\n",
    "print(\"Total sum: %i\" % sum(all_lengths))"
   ]
  },
  {
   "cell_type": "code",
   "execution_count": 8,
   "metadata": {},
   "outputs": [
    {
     "name": "stdout",
     "output_type": "stream",
     "text": [
      "average length = 5131\n"
     ]
    }
   ],
   "source": [
    "# This means, that these roughly three months of articles alltogether consists of 102811552 characters\n",
    "# Which we can divide with the number of texts to find the average length\n",
    "print (\"average length = %i\" % (102811552/20034))\n",
    "# The average length is 5131 characters per text."
   ]
  },
  {
   "cell_type": "code",
   "execution_count": 9,
   "metadata": {},
   "outputs": [
    {
     "data": {
      "text/plain": [
       "DescribeResult(nobs=20034, minmax=(0, 171912), mean=5131.853449136468, variance=33251276.031534303, skewness=8.001328198274688, kurtosis=106.28879701912673)"
      ]
     },
     "execution_count": 9,
     "metadata": {},
     "output_type": "execute_result"
    }
   ],
   "source": [
    "# Then i use 'stats' from Scipy to do some more general statistics on the entire collection\n",
    "from scipy import stats \n",
    "stats.describe(all_lengths)\n",
    "# The result from the above gives us some repetitions of earlier results, but here \n",
    "# We have them gathered via. scipy's 'stats'\n",
    "# They show us that the texts vary between 0 and 171912 words, which tells us that\n",
    "# we could choose to lose some of our articles"
   ]
  },
  {
   "cell_type": "code",
   "execution_count": 10,
   "metadata": {},
   "outputs": [
    {
     "name": "stdout",
     "output_type": "stream",
     "text": [
      "Word count: 17397923\n",
      "Unique word count: 507608\n"
     ]
    }
   ],
   "source": [
    "# THen let's take a look at the total word count and the unique word count for our texts\n",
    "all_words = list()\n",
    "for text in texts:\n",
    "  words = text.split()\n",
    "  all_words.extend(words)\n",
    "print(\"Word count: %i\" % len(all_words))\n",
    "unique_words = set(all_words)\n",
    "unique_word_count = len(unique_words)\n",
    "print(\"Unique word count: %i\" % unique_word_count)\n",
    "# (Which amounts to 507608)"
   ]
  },
  {
   "cell_type": "markdown",
   "metadata": {},
   "source": [
    "I will make a document-term matrix via sklearn's CountVectorizer\n",
    "My preprocessing consists of setting the maxfeatures for 10.000, add nltk's list of english stopwords\n",
    "and via a RegEx, we'll define terms that consists of two or more alphabetic symbols + hyphens.\n"
   ]
  },
  {
   "cell_type": "code",
   "execution_count": 11,
   "metadata": {},
   "outputs": [
    {
     "data": {
      "text/plain": [
       "3933"
      ]
     },
     "execution_count": 11,
     "metadata": {},
     "output_type": "execute_result"
    }
   ],
   "source": [
    "#But first I will try to create a for_loop, to only derive the sections 'news',' world news', 'politics, 'society', 'world' and create a list called 'sub_texts'.\n",
    "# These are sections, I found on the Guardian's online newspaper\n",
    "idxs = []\n",
    "sub_texts = []\n",
    "for i, section in enumerate(sections):\n",
    "    if section in ['news','world news', 'politics', 'society', 'world']:\n",
    "        idxs.append(i)\n",
    "        sub_texts.append(texts[i])\n",
    "len(idxs)\n",
    "# Which gives me a total of just 3933 texts\n"
   ]
  },
  {
   "cell_type": "code",
   "execution_count": 12,
   "metadata": {},
   "outputs": [
    {
     "data": {
      "text/plain": [
       "{'animals-farmed',\n",
       " 'artanddesign',\n",
       " 'australia-news',\n",
       " 'australia-post-building-a-sustainable-future',\n",
       " 'bank-australia-coming-clean',\n",
       " 'best-of-bordeaux',\n",
       " 'books',\n",
       " 'born-adventurous',\n",
       " 'breakthrough-science',\n",
       " 'bringing-classroom-subjects-to-life',\n",
       " 'britain-get-talking',\n",
       " 'business',\n",
       " 'business-call-to-action-partnerzone',\n",
       " 'business-to-business',\n",
       " 'careers',\n",
       " 'caresuper-staying-future-focused',\n",
       " 'cgu-rescuing-ambition',\n",
       " 'changemakers-for-a-better-tomorrow',\n",
       " 'cities',\n",
       " 'clarks-curators',\n",
       " 'clinique-beyond-beauty',\n",
       " 'commentisfree',\n",
       " 'community',\n",
       " 'crosswords',\n",
       " 'culture',\n",
       " 'dairy-australia-listen-to-your-gut',\n",
       " 'discover-cool-canada',\n",
       " 'diverse-talent-everywhere',\n",
       " 'east-of-england-ambulance-service-careers',\n",
       " 'education',\n",
       " 'environment',\n",
       " 'essex-social-care',\n",
       " 'family-services-barnet',\n",
       " 'fashion',\n",
       " 'fill-your-heart-with-ireland',\n",
       " 'film',\n",
       " 'food',\n",
       " 'football',\n",
       " 'future-energy-skills-know-your-battery',\n",
       " 'games',\n",
       " 'global',\n",
       " 'global-development',\n",
       " 'gnm-press-office',\n",
       " 'gnmeducationcentre',\n",
       " 'guardian-masterclasses',\n",
       " 'help',\n",
       " 'highlights-of-hangzhou',\n",
       " 'inequality',\n",
       " 'info',\n",
       " 'isle-of-wight-healthcare-careers',\n",
       " 'kids-travel-guides',\n",
       " 'law',\n",
       " 'lifeandstyle',\n",
       " 'live-victoriously',\n",
       " 'media',\n",
       " 'melbourne-international-arts-festival-2019',\n",
       " 'membership',\n",
       " 'modern-healthcare-challenges',\n",
       " 'modern-money',\n",
       " 'money',\n",
       " 'music',\n",
       " 'nantes-atlantic-loire-valley',\n",
       " 'news',\n",
       " 'nice-and-cote-d-azur-france',\n",
       " 'politics',\n",
       " 'product-innovation-with-henkel',\n",
       " 'professional-supplements',\n",
       " 'provoking-progress',\n",
       " 'qualified-for-life',\n",
       " 'raising-cats-and-dogs',\n",
       " 'research-at-the-university-of-nottingham',\n",
       " 'road-safety-commission-streets-ahead',\n",
       " 'science',\n",
       " 'searching-for-my-past',\n",
       " 'society',\n",
       " 'sounds-of-our-lives',\n",
       " 'spains-secret-coast',\n",
       " 'sport',\n",
       " 'stage',\n",
       " 'tafe-nsw-skills-for-business',\n",
       " 'taking-care-of-business',\n",
       " 'technology',\n",
       " 'the-a-to-z-of-sleep',\n",
       " 'the-one-where-you-own-friends',\n",
       " 'the-slopes-are-calling',\n",
       " 'theguardian',\n",
       " 'theobserver',\n",
       " 'toy-story-4-sporktacular-adventure',\n",
       " 'travel',\n",
       " 'travel-smarter',\n",
       " 'tv-and-radio',\n",
       " 'uk-news',\n",
       " 'unexpected-paris',\n",
       " 'us-news',\n",
       " 'virgin-australia-northern-lights',\n",
       " 'westpac-super-savers',\n",
       " 'world',\n",
       " 'world-vision-stand-with-girls',\n",
       " 'xero-small-changes-big-impact',\n",
       " 'you-can-adopt'}"
      ]
     },
     "execution_count": 12,
     "metadata": {},
     "output_type": "execute_result"
    }
   ],
   "source": [
    "# I check out the list of unique sections for my data, to choose the relevant sub_texts.\n",
    "# Just to make sure, that I am happy with my choice of just the above-mentioned 5, or if more could be relevant when i dig deeper\n",
    "len(sections)\n",
    "unique_sections = set(sections)\n",
    "len(unique_sections)\n",
    "unique_sections"
   ]
  },
  {
   "cell_type": "markdown",
   "metadata": {},
   "source": [
    "From the above list of unique sections i furthermore find the following relevant to my query:\n",
    "'global', 'cities', community', 'culture','uk-news' - and i will add them to the other five"
   ]
  },
  {
   "cell_type": "code",
   "execution_count": 13,
   "metadata": {},
   "outputs": [
    {
     "data": {
      "text/plain": [
       "5013"
      ]
     },
     "execution_count": 13,
     "metadata": {},
     "output_type": "execute_result"
    }
   ],
   "source": [
    "idxs = []\n",
    "sub_texts = []\n",
    "for i, section in enumerate(sections):\n",
    "    if section in ['news','world news', 'politics', 'society', 'world','global', 'cities', 'community', 'culture','uk-news']:\n",
    "        idxs.append(i)\n",
    "        sub_texts.append(texts[i])\n",
    "len(idxs)"
   ]
  },
  {
   "cell_type": "markdown",
   "metadata": {},
   "source": [
    "And so we land on 5013 articles, so approximately 1000 more."
   ]
  },
  {
   "cell_type": "code",
   "execution_count": 41,
   "metadata": {},
   "outputs": [
    {
     "name": "stderr",
     "output_type": "stream",
     "text": [
      "[nltk_data] Downloading package stopwords to\n",
      "[nltk_data]     /Users/frederik/nltk_data...\n",
      "[nltk_data]   Package stopwords is already up-to-date!\n"
     ]
    },
    {
     "data": {
      "text/plain": [
       "<5013x70881 sparse matrix of type '<class 'numpy.int64'>'\n",
       "\twith 1465539 stored elements in Compressed Sparse Row format>"
      ]
     },
     "execution_count": 41,
     "metadata": {},
     "output_type": "execute_result"
    }
   ],
   "source": [
    "# And then we use these in out CountVectorizer:\n",
    "# genovervej de 10000 (fjern det)\n",
    "\n",
    "nltk.download('stopwords')\n",
    "from sklearn.feature_extraction.text import CountVectorizer\n",
    "from nltk.corpus import stopwords as sw\n",
    "model_vect = CountVectorizer(stop_words = sw.words('english'), token_pattern =r'[a-zA-Z\\-][a-zA-Z\\-]{2,}')\n",
    "data_vect = model_vect.fit_transform(sub_texts)\n",
    "\n",
    "data_vect"
   ]
  },
  {
   "cell_type": "markdown",
   "metadata": {},
   "source": [
    "The resulting term-document-matrix is a sparse matrix (5013, 70881)\n",
    "with  rows=texts, columns: terms, cells: counts\n",
    "\n",
    "Then we'll take a look at the top indexes"
   ]
  },
  {
   "cell_type": "code",
   "execution_count": 42,
   "metadata": {},
   "outputs": [
    {
     "name": "stdout",
     "output_type": "stream",
     "text": [
      "[1 2 1 ... 1 1 1]\n",
      "[54697 69976 46610 32968 26163  8222 44358  2127 15716 55257]\n",
      "Top words: ['said', 'would', 'people', 'johnson', 'government', 'brexit', 'one', 'also', 'deal', 'says']\n"
     ]
    }
   ],
   "source": [
    "counts = data_vect.sum(axis = 0).A1\n",
    "print(counts)\n",
    "top_idxs = (-counts).argsort()[:10]\n",
    "print(top_idxs)\n",
    "\n",
    "#And add the following to see the words, they represent\n",
    "# In other words - my top10 words based on TF-IDF\n",
    "\n",
    "inverted_vocabulary = dict([(idx, word) for word, idx in model_vect.vocabulary_.items()])\n",
    "top_words = [inverted_vocabulary[idx] for idx in top_idxs]\n",
    "print(\"Top words: %s\" % top_words)"
   ]
  },
  {
   "cell_type": "markdown",
   "metadata": {},
   "source": [
    "Which are not very revealing for anything - but none the less they are actual words.\n",
    "Good enough - but i will also take a random sample of the words,\n",
    "this also to make sure, my preprocessing was succesful"
   ]
  },
  {
   "cell_type": "code",
   "execution_count": 43,
   "metadata": {
    "scrolled": true
   },
   "outputs": [
    {
     "data": {
      "text/plain": [
       "['Cole!',\n",
       " 'betel',\n",
       " 'tendinitis.',\n",
       " 'MI6’s',\n",
       " 'bait-and-switch',\n",
       " '108s',\n",
       " 'Seeming',\n",
       " 'Parisienne',\n",
       " 'uncouple',\n",
       " 'noon-3pm,',\n",
       " 'Fifteen',\n",
       " 'Deaton:',\n",
       " 'Verbal',\n",
       " 'particle',\n",
       " 'connected,”',\n",
       " 'mutely',\n",
       " 'hood,',\n",
       " 'applaud',\n",
       " 'Sniff',\n",
       " 'Longmire’s']"
      ]
     },
     "execution_count": 43,
     "metadata": {},
     "output_type": "execute_result"
    }
   ],
   "source": [
    "import random\n",
    "random.sample(unique_words, 20)\n",
    "\n",
    "# And I will run a random sample of 20 words, just to see, that i receive words, that make sense"
   ]
  },
  {
   "cell_type": "code",
   "execution_count": 78,
   "metadata": {},
   "outputs": [
    {
     "data": {
      "text/plain": [
       "([54697, 32968, 8222, 69976, 46610, 26163, 15716, 47986, 46048, 34660],\n",
       " ['said',\n",
       "  'johnson',\n",
       "  'brexit',\n",
       "  'would',\n",
       "  'people',\n",
       "  'government',\n",
       "  'deal',\n",
       "  'police',\n",
       "  'party',\n",
       "  'labour'])"
      ]
     },
     "execution_count": 78,
     "metadata": {},
     "output_type": "execute_result"
    }
   ],
   "source": [
    "# And then here I transform the count to a tfidf representation\n",
    "from sklearn.feature_extraction.text import TfidfTransformer\n",
    "model_tfidf = TfidfTransformer()\n",
    "data_tfidf = model_tfidf.fit_transform(data_vect)\n",
    "data_tfidf\n",
    "\n",
    "#And then let's see the top-10-terms based on tfidf-weighting\n",
    "freqs = data_tfidf.mean(axis=0).A1\n",
    "top_idxs = (-freqs).argsort()[:10].tolist()\n",
    "top_words = [inverted_vocabulary[idx] for idx in top_idxs]\n",
    "(top_idxs, top_words)"
   ]
  },
  {
   "cell_type": "markdown",
   "metadata": {},
   "source": [
    "3) Select articles using a query\n",
    " - I am trying to find articles related to the demonstrations in hong kong\n",
    " "
   ]
  },
  {
   "cell_type": "code",
   "execution_count": 25,
   "metadata": {},
   "outputs": [],
   "source": [
    "terms = ['hong', 'kong', 'protests', 'protest', 'extradition', 'demonstration', 'demonstrations']\n",
    "# After several tries with versatile letters and \"hong kong\", i just settled for\n",
    "# seperating the words. It's not like 'hong' or 'kong' is seperate words in english anyway\n"
   ]
  },
  {
   "cell_type": "code",
   "execution_count": 26,
   "metadata": {},
   "outputs": [
    {
     "name": "stdout",
     "output_type": "stream",
     "text": [
      "[1729, 1653, 1411, 797, 179, 138, 297]\n"
     ]
    }
   ],
   "source": [
    "# And then in order to get the term count for each of our query words\n",
    "term_idxs = [model_vect.vocabulary_.get(term) for term in terms]\n",
    "term_counts = [counts[idx] for idx in term_idxs]\n",
    "print(term_counts)"
   ]
  },
  {
   "cell_type": "code",
   "execution_count": null,
   "metadata": {},
   "outputs": [],
   "source": [
    "# JEG VIL bare lige sige, at herover er der noget fåkken rod i rækkefølgen. Rod rækkefølge rævens røvhul"
   ]
  },
  {
   "cell_type": "code",
   "execution_count": 28,
   "metadata": {},
   "outputs": [
    {
     "data": {
      "text/plain": [
       "[4.103888876513818,\n",
       " 4.126361732365877,\n",
       " 3.371520982800592,\n",
       " 3.4354898656430675,\n",
       " 4.667959014798622,\n",
       " 4.924869428583649,\n",
       " 4.231722248023703]"
      ]
     },
     "execution_count": 28,
     "metadata": {},
     "output_type": "execute_result"
    }
   ],
   "source": [
    "# And then to derive the individual weights for my selected terms\n",
    "idfs = model_tfidf.idf_\n",
    "term_idfs = [idfs[idx] for idx in term_idxs]\n",
    "term_idfs"
   ]
  },
  {
   "cell_type": "code",
   "execution_count": 29,
   "metadata": {},
   "outputs": [
    {
     "data": {
      "text/html": [
       "<div>\n",
       "<style scoped>\n",
       "    .dataframe tbody tr th:only-of-type {\n",
       "        vertical-align: middle;\n",
       "    }\n",
       "\n",
       "    .dataframe tbody tr th {\n",
       "        vertical-align: top;\n",
       "    }\n",
       "\n",
       "    .dataframe thead th {\n",
       "        text-align: right;\n",
       "    }\n",
       "</style>\n",
       "<table border=\"1\" class=\"dataframe\">\n",
       "  <thead>\n",
       "    <tr style=\"text-align: right;\">\n",
       "      <th></th>\n",
       "      <th>count</th>\n",
       "      <th>idf</th>\n",
       "    </tr>\n",
       "  </thead>\n",
       "  <tbody>\n",
       "    <tr>\n",
       "      <th>hong</th>\n",
       "      <td>1729</td>\n",
       "      <td>4.103889</td>\n",
       "    </tr>\n",
       "    <tr>\n",
       "      <th>kong</th>\n",
       "      <td>1653</td>\n",
       "      <td>4.126362</td>\n",
       "    </tr>\n",
       "    <tr>\n",
       "      <th>protests</th>\n",
       "      <td>1411</td>\n",
       "      <td>3.371521</td>\n",
       "    </tr>\n",
       "    <tr>\n",
       "      <th>protest</th>\n",
       "      <td>797</td>\n",
       "      <td>3.435490</td>\n",
       "    </tr>\n",
       "    <tr>\n",
       "      <th>extradition</th>\n",
       "      <td>179</td>\n",
       "      <td>4.667959</td>\n",
       "    </tr>\n",
       "    <tr>\n",
       "      <th>demonstration</th>\n",
       "      <td>138</td>\n",
       "      <td>4.924869</td>\n",
       "    </tr>\n",
       "    <tr>\n",
       "      <th>demonstrations</th>\n",
       "      <td>297</td>\n",
       "      <td>4.231722</td>\n",
       "    </tr>\n",
       "  </tbody>\n",
       "</table>\n",
       "</div>"
      ],
      "text/plain": [
       "                count       idf\n",
       "hong             1729  4.103889\n",
       "kong             1653  4.126362\n",
       "protests         1411  3.371521\n",
       "protest           797  3.435490\n",
       "extradition       179  4.667959\n",
       "demonstration     138  4.924869\n",
       "demonstrations    297  4.231722"
      ]
     },
     "execution_count": 29,
     "metadata": {},
     "output_type": "execute_result"
    }
   ],
   "source": [
    "# Then i use pandas to make a dataframe, that will let me compare my term counts with\n",
    "# my term weights. The one that have the largest difference is 'extradition', which i \n",
    "# guess means that it has a higher semantic value compared to how often it is represented\n",
    "# in my texts (?)\n",
    "df = pd.DataFrame(columns=['count', 'idf'], index=terms, data=zip(term_counts,term_idfs))\n",
    "df"
   ]
  },
  {
   "cell_type": "code",
   "execution_count": 30,
   "metadata": {},
   "outputs": [
    {
     "data": {
      "text/plain": [
       "'hong kong protests protest extradition demonstration demonstrations'"
      ]
     },
     "execution_count": 30,
     "metadata": {},
     "output_type": "execute_result"
    }
   ],
   "source": [
    "query = \" \".join(terms)\n",
    "query"
   ]
  },
  {
   "cell_type": "code",
   "execution_count": 31,
   "metadata": {},
   "outputs": [
    {
     "data": {
      "text/plain": [
       "<1x70881 sparse matrix of type '<class 'numpy.float64'>'\n",
       "\twith 7 stored elements in Compressed Sparse Row format>"
      ]
     },
     "execution_count": 31,
     "metadata": {},
     "output_type": "execute_result"
    }
   ],
   "source": [
    "from sklearn.feature_extraction.text import TfidfTransformer\n",
    "model_tfidf = TfidfTransformer()\n",
    "query_vect_counts = model_vect.transform([query])\n",
    "query_vect = model_tfidf.fit_transform(query_vect_counts)\n",
    "query_vect"
   ]
  },
  {
   "cell_type": "code",
   "execution_count": 32,
   "metadata": {},
   "outputs": [
    {
     "data": {
      "text/plain": [
       "(1, 5013)"
      ]
     },
     "execution_count": 32,
     "metadata": {},
     "output_type": "execute_result"
    }
   ],
   "source": [
    "from sklearn.metrics.pairwise import cosine_similarity\n",
    "sims = cosine_similarity(query_vect, data_tfidf)\n",
    "sims\n",
    "np.shape(sims)"
   ]
  },
  {
   "cell_type": "code",
   "execution_count": 33,
   "metadata": {},
   "outputs": [
    {
     "data": {
      "text/plain": [
       "(1, 5013)"
      ]
     },
     "execution_count": 33,
     "metadata": {},
     "output_type": "execute_result"
    }
   ],
   "source": [
    "sims_sorted_idx = (-sims).argsort()\n",
    "sims_sorted_idx\n",
    "np.shape(sims_sorted_idx)"
   ]
  },
  {
   "cell_type": "code",
   "execution_count": 35,
   "metadata": {},
   "outputs": [
    {
     "data": {
      "text/plain": [
       "'Chinese military vehicles have been seen moving across the border into Hong Kong, in what the military said were regular troop movements, as fears rose that the city could see a Beijing-led crackdown after months of political unrest. Following witness reports of the movements in the early hours of Thursday, state-run news agency Xinhua released a report that the Hong Kong Garrison of the Chinese People’s Liberation Army (PLA) was making a scheduled rotation and that it was an “annual normal routine”. The images published by Xinhua showed armoured carriers and trucks carrying troops at the border, and a naval vessel arriving in Hong Kong. In the previous two rotations – in 2017 and 2018 – state media reports noted that the number of troops and equipment had not changed. This year the report does not include that detail. It is estimated there are between 8,000 and 10,000 troops in the garrison, on either side of the border. The movements come before a major anti-government demonstration planned for Saturday, as Hong Kong nears its third month of mass protests. On Thursday, the organiser of the demonstration, Civil Human Rights Front, received notice that police had banned the event. Hours after the announcement, Civil Human Rights Front convenor Jimmy Sham and a friend were attacked inside a restaurant by two men in masks wielding baseball bats and knives. While Sham was unharmed, his friend is receiving treatment for injuries sustained during the attack, according to the coalition. Bonnie Leung, a co-convenor of the group, said she thought the attack was intended to scare away protesters from Saturday’s demonstration. Past events organised by CHRF this summer have drawn hundreds of thousands of residents, including families and the elderly, in some of the largest demonstrations seen in Hong Kong since it returned to Chinese rule in 1997. “My guess is, whoever attacked [or] hired people to attack Jimmy want to … scare people away from protests,” she said. “But I don’t think it will work. Hong Kong people knows the importance of unity - the more people come out, the safer everyone will be.” The attack is not unprecedented in Hong Kong, which has seen an escalation of violence targeted at protesters, journalists and pro-democracy figures in recent weeks. Last week, three people were stabbed at a “Lennon Wall” in eastern Hong Kong, one of many temporary collections of posters and notes that have gone up across the city to support protesters, according to Hong Kong Free Press. In separate incidents, groups of stick-wielding men attacked protesters in Yuen Long after a demonstration on July 21 and again at a demonstration in Causeway Bay on August 5. Hong Kong lawmaker Dennis Kwok of the Civic party called the troop movements political posturing. “I believe this is a deliberate posture on the part of the PLA to tell or warn the Hong Kong people that it may be deployed,” Kwok told public broadcaster RTHK. “As I said time and again, the use of troops in Hong Kong will be the end of Hong Kong, and I would warn against any such move on the part of the central people’s government.” The protests, triggered in June by an extradition bill that would send suspects to mainland China, represent the sharpest challenge to Beijing’s authority since the handover. In recent weeks, China has issued increasingly severe warnings. The PLA released a propaganda video earlier this month showing armed police and soldiers subduing people in yellow hard hats and black tops, the unofficial uniform of the Hong Kong demonstrators. As concerns about a possible crackdown intensify in Hong Kong, the Hong Kong Internet Service Providers Association said on Wednesday it was troubled by reports that the local government might issue an executive order to block selective websites or applications. It said such an order would be the “end of the open Internet of Hong Kong” and “permanently deter international businesses from positing their businesses and investments in Hong Kong”. The group also said it would be an ineffective move as it “would not deter nor stop determined users from accessing their desired services” through a virtual private network (VPN).'"
      ]
     },
     "execution_count": 35,
     "metadata": {},
     "output_type": "execute_result"
    }
   ],
   "source": [
    "# Now - the above lines of code are hardfor me to explain, but they are related\n",
    "# to investigating the cosine-similarity of my terms (/query?)\n",
    "\n",
    "# Which should lead the below text (first in the matrix), to be the most relevant \n",
    "# text for my query\n",
    "sub_texts[sims_sorted_idx[0,0]]"
   ]
  },
  {
   "cell_type": "code",
   "execution_count": null,
   "metadata": {},
   "outputs": [],
   "source": [
    "# The article is an extremely relevant match"
   ]
  },
  {
   "cell_type": "code",
   "execution_count": 37,
   "metadata": {},
   "outputs": [
    {
     "name": "stdout",
     "output_type": "stream",
     "text": [
      "Shape of 2-D array sims: (1, 5013)\n"
     ]
    },
    {
     "data": {
      "text/html": [
       "<div>\n",
       "<style scoped>\n",
       "    .dataframe tbody tr th:only-of-type {\n",
       "        vertical-align: middle;\n",
       "    }\n",
       "\n",
       "    .dataframe tbody tr th {\n",
       "        vertical-align: top;\n",
       "    }\n",
       "\n",
       "    .dataframe thead th {\n",
       "        text-align: right;\n",
       "    }\n",
       "</style>\n",
       "<table border=\"1\" class=\"dataframe\">\n",
       "  <thead>\n",
       "    <tr style=\"text-align: right;\">\n",
       "      <th></th>\n",
       "      <th>index</th>\n",
       "      <th>cosine_similarity</th>\n",
       "    </tr>\n",
       "  </thead>\n",
       "  <tbody>\n",
       "    <tr>\n",
       "      <th>0</th>\n",
       "      <td>2640</td>\n",
       "      <td>0.496064</td>\n",
       "    </tr>\n",
       "    <tr>\n",
       "      <th>1</th>\n",
       "      <td>1481</td>\n",
       "      <td>0.488050</td>\n",
       "    </tr>\n",
       "    <tr>\n",
       "      <th>2</th>\n",
       "      <td>463</td>\n",
       "      <td>0.458087</td>\n",
       "    </tr>\n",
       "    <tr>\n",
       "      <th>3</th>\n",
       "      <td>888</td>\n",
       "      <td>0.454689</td>\n",
       "    </tr>\n",
       "    <tr>\n",
       "      <th>4</th>\n",
       "      <td>111</td>\n",
       "      <td>0.454270</td>\n",
       "    </tr>\n",
       "    <tr>\n",
       "      <th>5</th>\n",
       "      <td>2441</td>\n",
       "      <td>0.447918</td>\n",
       "    </tr>\n",
       "    <tr>\n",
       "      <th>6</th>\n",
       "      <td>1381</td>\n",
       "      <td>0.444568</td>\n",
       "    </tr>\n",
       "    <tr>\n",
       "      <th>7</th>\n",
       "      <td>3655</td>\n",
       "      <td>0.427736</td>\n",
       "    </tr>\n",
       "    <tr>\n",
       "      <th>8</th>\n",
       "      <td>3646</td>\n",
       "      <td>0.425423</td>\n",
       "    </tr>\n",
       "    <tr>\n",
       "      <th>9</th>\n",
       "      <td>3102</td>\n",
       "      <td>0.424275</td>\n",
       "    </tr>\n",
       "  </tbody>\n",
       "</table>\n",
       "</div>"
      ],
      "text/plain": [
       "   index  cosine_similarity\n",
       "0   2640           0.496064\n",
       "1   1481           0.488050\n",
       "2    463           0.458087\n",
       "3    888           0.454689\n",
       "4    111           0.454270\n",
       "5   2441           0.447918\n",
       "6   1381           0.444568\n",
       "7   3655           0.427736\n",
       "8   3646           0.425423\n",
       "9   3102           0.424275"
      ]
     },
     "execution_count": 37,
     "metadata": {},
     "output_type": "execute_result"
    }
   ],
   "source": [
    "print(\"Shape of 2-D array sims: (%i, %i)\" % (len(sims), len(sims[0,:])) )\n",
    "df = pd.DataFrame(data=zip(sims_sorted_idx[0,:], sims[0,sims_sorted_idx[0,:]]), columns=[\"index\", \"cosine_similarity\"])\n",
    "df[0:10]\n",
    "# Here we have the top-ten texts for my query"
   ]
  },
  {
   "cell_type": "markdown",
   "metadata": {},
   "source": [
    "4. Model and visualize the topics in your subset"
   ]
  },
  {
   "cell_type": "code",
   "execution_count": 50,
   "metadata": {},
   "outputs": [],
   "source": [
    "#LDA-topic modelling\n",
    "from sklearn.decomposition import LatentDirichletAllocation\n",
    "model_lda = LatentDirichletAllocation(n_components=4, random_state=0)\n",
    "data_lda = model_lda.fit_transform(data_vect)"
   ]
  },
  {
   "cell_type": "code",
   "execution_count": 51,
   "metadata": {},
   "outputs": [
    {
     "name": "stdout",
     "output_type": "stream",
     "text": [
      "Topic 0: said (4595.181), trump (2282.454), would (1911.256), party (1750.369), government (1312.639), president (1261.361), people (1238.982), also (1149.754), country (1104.107), letters (1042.061)\n",
      "Topic 1: said (7303.839), people (5816.773), one (3351.457), says (3191.584), years (2690.340), year (2592.970), would (2588.319), also (2423.355), like (2399.222), health (2304.724)\n",
      "Topic 2: johnson (10656.214), said (10017.889), brexit (9626.386), would (9218.569), deal (6680.959), government (6600.134), minister (4951.417), parliament (4862.695), labour (4831.942), mps (4221.794)\n",
      "Topic 3: said (5962.091), police (4534.393), people (2988.897), one (1972.991), hong (1729.241), kong (1653.241), also (1541.293), city (1534.991), two (1507.247), protesters (1501.334)\n"
     ]
    }
   ],
   "source": [
    "import numpy as np\n",
    "\n",
    "for i, term_weights in enumerate(model_lda.components_):\n",
    "    top_idxs = (-term_weights).argsort()[:10]\n",
    "    top_words = [\"%s (%.3f)\" % (model_vect.get_feature_names()[idx], term_weights[idx]) for idx in top_idxs]\n",
    "    print(\"Topic %d: %s\" % (i, \", \".join(top_words)))"
   ]
  },
  {
   "cell_type": "markdown",
   "metadata": {},
   "source": [
    "It is by far my topic three, that to the highest degree seems TOPIX 3 blababl\n"
   ]
  },
  {
   "cell_type": "code",
   "execution_count": 73,
   "metadata": {},
   "outputs": [
    {
     "name": "stdout",
     "output_type": "stream",
     "text": [
      "Doc idx: 4031\n"
     ]
    }
   ],
   "source": [
    "# 3.d. Inspect a random document\n",
    "doc_idx = random.randint(0,len(texts)-1)\n",
    "print('Doc idx: %d' % doc_idx)\n"
   ]
  },
  {
   "cell_type": "code",
   "execution_count": 74,
   "metadata": {
    "scrolled": true
   },
   "outputs": [
    {
     "name": "stdout",
     "output_type": "stream",
     "text": [
      "Topic vector: [1.31042122e-01 1.61269250e-01 7.07632714e-01 5.59138322e-05]\n",
      "Topic vote: 2\n"
     ]
    },
    {
     "data": {
      "text/plain": [
       "'Ribollita is a dish that has a special place in my heart. It’s a traditional and robust Italian soup, perfect for using up surplus vegetables and stale bread, and is a superb example of root-to-fruit eating, zero waste and food sustainability. I began my journey into sustainability advocacy because of Tristram Stuart. Stuart is one of the main people responsible for opening the world’s eyes to the global food waste scandal and the fact that around 40% of all food is wasted. He caused this stir by launching an initiative called Feeding the 5,000, a global event that turns hundreds of tonnes of food waste into a feast, where everyone is welcome. At the first of these events, I was invited to do a cooking demonstration. To prepare for the event, I spent the day at the legendary Italian restaurant River Cafe, in London, making their version of ribollita. Here’s what I learned. Heat two tablespoons of best olive oil in a large, thick-based saucepan on a medium heat. Add 300g roughly chopped seasonal vegetables (celery, carrots, red onion, etc) and saute for five minutes, stirring occasionally. Season with salt and a crushed garlic clove, then add 250g of super-ripe – even bruised – chopped tomatoes, a sprig of rosemary and a can of white beans, including their cooking water. Top up with enough water to cover all the vegetables, then bring to a boil. Add 125g chopped cavolo nero or other greens, including the stalks, and bring back to a boil. Tear in three slices of stale bread (ideally wholemeal sourdough) in chunks, and leave for a few minutes for the bread to soften. Season to taste, drizzle with lots of olive oil, and serve garnished with celery and carrot leaves if you have them.'"
      ]
     },
     "execution_count": 74,
     "metadata": {},
     "output_type": "execute_result"
    }
   ],
   "source": [
    "# 3.d.i. What is the most likely topic according to LDA?\n",
    "topics = data_lda[doc_idx]\n",
    "print('Topic vector: %s' % topics)\n",
    "vote = np.argsort(-topics)[0]\n",
    "print('Topic vote: %i' % vote)\n",
    "# 3.d.ii. Look at the textual content of the document\n",
    "texts[doc_idx]"
   ]
  },
  {
   "cell_type": "code",
   "execution_count": null,
   "metadata": {},
   "outputs": [],
   "source": []
  },
  {
   "cell_type": "code",
   "execution_count": 76,
   "metadata": {
    "scrolled": true
   },
   "outputs": [
    {
     "data": {
      "image/png": "[encoded data removed]",
      "text/plain": [
       "<Figure size 432x288 with 4 Axes>"
      ]
     },
     "metadata": {
      "needs_background": "light"
     },
     "output_type": "display_data"
    }
   ],
   "source": [
    "# 4. Topic visualization\n",
    "# 4.a. Word cloud\n",
    "# Display a word cloud for a topic. Display the top-10 words and use their term loadings as weight/frequency.\n",
    "\n",
    "from wordcloud import WordCloud\n",
    "import matplotlib.pyplot as plt\n",
    "\n",
    "for i, term_weights in enumerate(model_lda.components_):\n",
    "    top_idxs = (-term_weights).argsort()[:10]\n",
    "    top_words = [model_vect.get_feature_names()[idx] for idx in top_idxs]\n",
    "    word_freqs = dict(zip(top_words, term_weights[top_idxs]))\n",
    "    wc = WordCloud(background_color=\"white\",width=300,height=300, max_words=10).generate_from_frequencies(word_freqs)\n",
    "    plt.subplot(2, 2, i+1)\n",
    "    plt.imshow(wc)"
   ]
  },
  {
   "cell_type": "code",
   "execution_count": null,
   "metadata": {},
   "outputs": [],
   "source": []
  }
 ],
 "metadata": {
  "kernelspec": {
   "display_name": "Python 3",
   "language": "python",
   "name": "python3"
  },
  "language_info": {
   "codemirror_mode": {
    "name": "ipython",
    "version": 3
   },
   "file_extension": ".py",
   "mimetype": "text/x-python",
   "name": "python",
   "nbconvert_exporter": "python",
   "pygments_lexer": "ipython3",
   "version": "3.7.3"
  }
 },
 "nbformat": 4,
 "nbformat_minor": 2
}
